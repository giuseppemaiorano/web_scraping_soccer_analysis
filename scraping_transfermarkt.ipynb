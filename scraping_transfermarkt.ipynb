{
 "cells": [
  {
   "cell_type": "code",
   "execution_count": 7,
   "id": "1879a0b8",
   "metadata": {},
   "outputs": [],
   "source": [
    "#importo le librerie necessarie\n",
    "import re\n",
    "import requests\n",
    "from bs4 import BeautifulSoup"
   ]
  },
  {
   "cell_type": "code",
   "execution_count": 8,
   "id": "1d8a81c6",
   "metadata": {},
   "outputs": [],
   "source": [
    "#salvo l'url della pagina profilo del giocatore, in questo caso Lautaro Martinez\n",
    "url = \"https://www.transfermarkt.it/lautaro-martinez/profil/spieler/406625\""
   ]
  },
  {
   "cell_type": "code",
   "execution_count": 9,
   "id": "e683900e",
   "metadata": {},
   "outputs": [
    {
     "data": {
      "text/plain": [
       "'406625'"
      ]
     },
     "execution_count": 9,
     "metadata": {},
     "output_type": "execute_result"
    }
   ],
   "source": [
    "#ottengo l'id giocatore\n",
    "player_id = url.split('/')[-1] # mi da il valore dopo l'ultimo slash\n",
    "player_id"
   ]
  },
  {
   "cell_type": "code",
   "execution_count": 10,
   "id": "30b5de93",
   "metadata": {},
   "outputs": [],
   "source": [
    "#salvo l'headers ottenuto tramite whatsmybrowser.com\n",
    "headers = {\n",
    "    \"User-Agent\": \"Mozilla/5.0 (Windows NT 10.0; Win64; x64) AppleWebKit/537.36 (KHTML, like Gecko) Chrome/120.0.0.0 Safari/537.36\"\n",
    "}"
   ]
  },
  {
   "cell_type": "code",
   "execution_count": 11,
   "id": "0e10526d",
   "metadata": {},
   "outputs": [],
   "source": [
    "#risposta\n",
    "response = requests.get(url, headers=headers)"
   ]
  },
  {
   "cell_type": "code",
   "execution_count": 12,
   "id": "56f5796b",
   "metadata": {},
   "outputs": [
    {
     "data": {
      "text/plain": [
       "200"
      ]
     },
     "execution_count": 12,
     "metadata": {},
     "output_type": "execute_result"
    }
   ],
   "source": [
    "#stato risposta\n",
    "response.status_code # Quando un server invia lo status code 200, comunica al client che la richiesta \n",
    "                     # è stata ricevuta con successo e fornisce in risposta il contenuto richiesto"
   ]
  },
  {
   "cell_type": "code",
   "execution_count": 13,
   "id": "33ce8701",
   "metadata": {},
   "outputs": [],
   "source": [
    "soup = BeautifulSoup(response.content, \"html.parser\")"
   ]
  },
  {
   "cell_type": "code",
   "execution_count": 15,
   "id": "38906979",
   "metadata": {},
   "outputs": [
    {
     "data": {
      "text/plain": [
       "<h1 class=\"data-header__headline-wrapper\">\n",
       "<span class=\"data-header__shirt-number\">\n",
       "                        #10                    </span>\n",
       "                                Lautaro <strong>Martínez</strong> </h1>"
      ]
     },
     "execution_count": 15,
     "metadata": {},
     "output_type": "execute_result"
    }
   ],
   "source": [
    "#ottengo nome e cognome del giocatore\n",
    "nome_giocatore = soup.select_one('h1[class=\"data-header__headline-wrapper\"]')\n",
    "nome_giocatore"
   ]
  },
  {
   "cell_type": "code",
   "execution_count": 16,
   "id": "d9893a63",
   "metadata": {},
   "outputs": [
    {
     "data": {
      "text/plain": [
       "'Lautaro Martínez'"
      ]
     },
     "execution_count": 16,
     "metadata": {},
     "output_type": "execute_result"
    }
   ],
   "source": [
    "#ottengo la sola stringa per nome e cognome del giocatore\n",
    "nome_giocatore = soup.select_one('h1[class=\"data-header__headline-wrapper\"]').text.split('\\n')[-1].strip()\n",
    "nome_giocatore"
   ]
  },
  {
   "cell_type": "code",
   "execution_count": 18,
   "id": "2417460c",
   "metadata": {},
   "outputs": [
    {
     "data": {
      "text/plain": [
       "<span class=\"data-header__shirt-number\">\n",
       "                        #10                    </span>"
      ]
     },
     "execution_count": 18,
     "metadata": {},
     "output_type": "execute_result"
    }
   ],
   "source": [
    "#ottengo il numero del giocatore\n",
    "numero_giocatore = soup.select_one('span[class=\"data-header__shirt-number\"]')\n",
    "numero_giocatore"
   ]
  },
  {
   "cell_type": "code",
   "execution_count": 40,
   "id": "704ca6a7",
   "metadata": {},
   "outputs": [
    {
     "data": {
      "text/plain": [
       "'10'"
      ]
     },
     "execution_count": 40,
     "metadata": {},
     "output_type": "execute_result"
    }
   ],
   "source": [
    "#ottengo la sola stringa contenente il numero del giocatore\n",
    "numero_giocatore = soup.select_one('span[class=\"data-header__shirt-number\"]').text.replace('#', '').strip()\n",
    "numero_giocatore"
   ]
  },
  {
   "cell_type": "code",
   "execution_count": 41,
   "id": "c24e8b7b",
   "metadata": {},
   "outputs": [
    {
     "data": {
      "text/plain": [
       "10"
      ]
     },
     "execution_count": 41,
     "metadata": {},
     "output_type": "execute_result"
    }
   ],
   "source": [
    "#trasformo la stringa in un intero\n",
    "int(numero_giocatore)"
   ]
  },
  {
   "cell_type": "code",
   "execution_count": 20,
   "id": "b1e30029",
   "metadata": {},
   "outputs": [
    {
     "data": {
      "text/plain": [
       "<re.Match object; span=(29876, 29901), match='30/giu/2026</span></span>'>"
      ]
     },
     "execution_count": 20,
     "metadata": {},
     "output_type": "execute_result"
    }
   ],
   "source": [
    "#ottengo la scadenza del contratto utilizzando le regex tramite regex101.com\n",
    "scadenza_contratto_giocatore = re.search(\"(30/giu/2026).*\", str(soup))\n",
    "scadenza_contratto_giocatore"
   ]
  },
  {
   "cell_type": "code",
   "execution_count": 46,
   "id": "72831320",
   "metadata": {},
   "outputs": [
    {
     "data": {
      "text/plain": [
       "'30/giu/2026'"
      ]
     },
     "execution_count": 46,
     "metadata": {},
     "output_type": "execute_result"
    }
   ],
   "source": [
    "#prendo solo la stringa cotenente la data che mi serve\n",
    "scadenza_contratto_giocatore = re.search(\"(30/giu/2026).*\", str(soup)).group(1)\n",
    "scadenza_contratto_giocatore"
   ]
  },
  {
   "cell_type": "code",
   "execution_count": 58,
   "id": "cac3f8f4",
   "metadata": {},
   "outputs": [
    {
     "data": {
      "text/plain": [
       "'110,00 mln € Aggiornato al: 20/dic/2023'"
      ]
     },
     "execution_count": 58,
     "metadata": {},
     "output_type": "execute_result"
    }
   ],
   "source": [
    "#ottengo il valore del giocatore\n",
    "valore_giocatore = soup.select_one('a[href=\"/lautaro-martinez/marktwertverlauf/spieler/406625\"]').text\n",
    "valore_giocatore"
   ]
  },
  {
   "cell_type": "code",
   "execution_count": null,
   "id": "afb71a59",
   "metadata": {},
   "outputs": [],
   "source": []
  }
 ],
 "metadata": {
  "kernelspec": {
   "display_name": "Python 3 (ipykernel)",
   "language": "python",
   "name": "python3"
  },
  "language_info": {
   "codemirror_mode": {
    "name": "ipython",
    "version": 3
   },
   "file_extension": ".py",
   "mimetype": "text/x-python",
   "name": "python",
   "nbconvert_exporter": "python",
   "pygments_lexer": "ipython3",
   "version": "3.9.7"
  }
 },
 "nbformat": 4,
 "nbformat_minor": 5
}
